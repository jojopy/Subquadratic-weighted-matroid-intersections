{
 "cells": [
  {
   "cell_type": "code",
   "execution_count": 1,
   "metadata": {},
   "outputs": [],
   "source": [
    "from Input import Input\n",
    "from max_weight_intersection import maxWeightIntersection\n",
    "from HelperFunctions import checkResult\n",
    "\n",
    "input_ = Input.getRandomInput(30)\n",
    "\n",
    "S = maxWeightIntersection(input_)\n",
    "\n",
    "assert checkResult(input_, S)"
   ]
  },
  {
   "cell_type": "code",
   "execution_count": 2,
   "metadata": {},
   "outputs": [
    {
     "name": "stdout",
     "output_type": "stream",
     "text": [
      "0% done...\n",
      "10% done...\n",
      "20% done...\n",
      "30% done...\n",
      "40% done...\n",
      "50% done...\n",
      "60% done...\n",
      "70% done...\n",
      "80% done...\n",
      "90% done...\n"
     ]
    },
    {
     "data": {
      "image/png": "[encoded data removed]",
      "text/plain": [
       "<Figure size 432x288 with 1 Axes>"
      ]
     },
     "metadata": {
      "needs_background": "light"
     },
     "output_type": "display_data"
    }
   ],
   "source": [
    "from profiler import getData, plot\n",
    "\n",
    "plot(getData(50))"
   ]
  },
  {
   "cell_type": "code",
   "execution_count": null,
   "metadata": {},
   "outputs": [],
   "source": []
  }
 ],
 "metadata": {
  "kernelspec": {
   "display_name": "SageMath 9.5",
   "language": "sage",
   "name": "sagemath"
  },
  "language_info": {
   "codemirror_mode": {
    "name": "ipython",
    "version": 3
   },
   "file_extension": ".py",
   "mimetype": "text/x-python",
   "name": "python",
   "nbconvert_exporter": "python",
   "pygments_lexer": "ipython3",
   "version": "3.10.12"
  }
 },
 "nbformat": 4,
 "nbformat_minor": 2
}
